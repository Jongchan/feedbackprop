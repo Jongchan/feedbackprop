{
 "cells": [
  {
   "cell_type": "markdown",
   "metadata": {},
   "source": [
    "# Feedback-prop on multilabel model (COCO)"
   ]
  },
  {
   "cell_type": "code",
   "execution_count": 13,
   "metadata": {},
   "outputs": [
    {
     "name": "stdout",
     "output_type": "stream",
     "text": [
      "The autoreload extension is already loaded. To reload it, use:\n",
      "  %reload_ext autoreload\n"
     ]
    }
   ],
   "source": [
    "import argparse, os, string, pdb, time\n",
    "from collections import defaultdict, OrderedDict\n",
    "from tqdm import tqdm_notebook as tqdm\n",
    "\n",
    "import numpy as np\n",
    "from sklearn.metrics import average_precision_score\n",
    "\n",
    "import torch\n",
    "import torchvision.models as models\n",
    "import torch.nn as nn\n",
    "import torch.optim as optim\n",
    "import torch.backends.cudnn as cudnn\n",
    "import torch.nn.functional as F\n",
    "from torch.autograd import Variable\n",
    "import torchvision.datasets as dset\n",
    "import torchvision.transforms as transforms\n",
    "from torchvision.utils import save_image\n",
    "from torch.utils.data import DataLoader\n",
    "\n",
    "import data_loader\n",
    "import model\n",
    "\n",
    "import matplotlib.pyplot as plt\n",
    "from IPython.core.display import display, HTML\n",
    "%matplotlib inline\n",
    "%load_ext autoreload\n",
    "%autoreload 2\n",
    "\n",
    "torch.manual_seed(1)\n",
    "torch.cuda.manual_seed(1)"
   ]
  },
  {
   "cell_type": "markdown",
   "metadata": {},
   "source": [
    "### Create arguments for the script below"
   ]
  },
  {
   "cell_type": "code",
   "execution_count": 78,
   "metadata": {
    "collapsed": true
   },
   "outputs": [],
   "source": [
    "class Arguments:\n",
    "    def __init__(self):\n",
    "        self.annDir = 'COCO annotation path'\n",
    "        self.imageDir = 'COCO image path'\n",
    "        self.logDir = 'trained model path'\n",
    "\n",
    "        self.imageSize = 256\n",
    "        self.cropSize = 224\n",
    "        self.batchSize = 64\n",
    "        self.startEpoch = 1\n",
    "        \n",
    "args = Arguments()"
   ]
  },
  {
   "cell_type": "markdown",
   "metadata": {},
   "source": [
    "### Define pre-processing"
   ]
  },
  {
   "cell_type": "code",
   "execution_count": 3,
   "metadata": {
    "collapsed": true
   },
   "outputs": [],
   "source": [
    "normMean = [0.49139968, 0.48215827, 0.44653124]\n",
    "normStd = [0.24703233, 0.24348505, 0.26158768]\n",
    "normTransform = transforms.Normalize(normMean, normStd)\n",
    "\n",
    "testTransform = transforms.Compose([\n",
    "    transforms.Resize(args.imageSize),\n",
    "    transforms.CenterCrop(args.cropSize),\n",
    "    transforms.ToTensor(),\n",
    "    normTransform\n",
    "])"
   ]
  },
  {
   "cell_type": "markdown",
   "metadata": {},
   "source": [
    "### Load dataset."
   ]
  },
  {
   "cell_type": "code",
   "execution_count": 5,
   "metadata": {},
   "outputs": [
    {
     "name": "stdout",
     "output_type": "stream",
     "text": [
      " \n",
      "Loading val object annotations...\n",
      "\n",
      "Preparing label space...\n",
      ". . . . . . . . . . .\n"
     ]
    }
   ],
   "source": [
    "valData = data_loader.loadValData(args, testTransform)\n",
    "valLoader = DataLoader(valData, batch_size = 64, shuffle = False, pin_memory = False, num_workers = 10)"
   ]
  },
  {
   "cell_type": "code",
   "execution_count": 7,
   "metadata": {},
   "outputs": [
    {
     "name": "stdout",
     "output_type": "stream",
     "text": [
      "\n",
      "Loading test object annotations...\n",
      "\n",
      "Preparing label space...\n",
      ". . . . . . . . . . .\n"
     ]
    }
   ],
   "source": [
    "testData = data_loader.loadTestData(args, testTransform)\n",
    "testLoader = DataLoader(testData, batch_size = 64, shuffle = False, pin_memory = False, num_workers = 10)"
   ]
  },
  {
   "cell_type": "markdown",
   "metadata": {},
   "source": [
    "### Now let's divide the label space into \"known\" labels and \"unknown\" labels.\n",
    "* We known the true values for the \"known\" labels.\n",
    "* We don't know the true values for the \"unknown\" labels, these are the ones we are trying to predict."
   ]
  },
  {
   "cell_type": "code",
   "execution_count": 9,
   "metadata": {},
   "outputs": [
    {
     "data": {
      "text/html": [
       "<h3>Known label-space</h3>"
      ],
      "text/plain": [
       "<IPython.core.display.HTML object>"
      ]
     },
     "metadata": {},
     "output_type": "display_data"
    },
    {
     "data": {
      "text/html": [
       "<b>(1)</b> [oven]  <b>(2)</b> [ear]  <b>(3)</b> [towel]  <b>(4)</b> ['']  <b>(5)</b> [lamb]  <b>(6)</b> [something]  <b>(7)</b> [personal]  <b>(8)</b> [way]  <b>(9)</b> [motorcycle]  <b>(10)</b> [hot]  <b>(11)</b> [lake]  <b>(12)</b> [ice]  <b>(13)</b> [posted]  <b>(14)</b> [racket]  <b>(15)</b> [several]  <b>(16)</b> [size]  <b>(17)</b> [cluttered]  <b>(18)</b> [suit]  <b>(19)</b> [time]  <b>(20)</b> [including]  <b>(21)</b> [decorated]  <b>(22)</b> [sidewalk]  <b>(23)</b> [vase]  <b>(24)</b> [object]  <b>(25)</b> [partially]  <b>(26)</b> [kitchen]  <b>(27)</b> [person]  <b>(28)</b> [bunch]  <b>(29)</b> [event]  <b>(30)</b> [frisbee]  <b>(31)</b> [prepared]  <b>(32)</b> [furniture]  <b>(33)</b> [jet]  <b>(34)</b> [skateboarder]  <b>(35)</b> [male]  <b>(36)</b> [white]  <b>(37)</b> [french]  <b>(38)</b> [jetliner]  <b>(39)</b> [sail]  <b>(40)</b> [juice]  <b>(41)</b> [work]  <b>(42)</b> [flat]  <b>(43)</b> [bottom]  <b>(44)</b> [bull]  <b>(45)</b> [sauce]  <b>(46)</b> [pedestrian]  <b>(47)</b> ['s]  <b>(48)</b> [nose]  <b>(49)</b> [practicing]  <b>(50)</b> [horse]  <b>(51)</b> [putting]  <b>(52)</b> [mound]  <b>(53)</b> [pitcher]  <b>(54)</b> [look]  <b>(55)</b> [mustard]  <b>(56)</b> [swimming]  <b>(57)</b> [waiting]  <b>(58)</b> [truck]  <b>(59)</b> [cell]  <b>(60)</b> [vintage]  <b>(61)</b> [closeup]  <b>(62)</b> [topped]  <b>(63)</b> [seen]  <b>(64)</b> [fun]  <b>(65)</b> [sort]  <b>(66)</b> [chicken]  <b>(67)</b> [petting]  <b>(68)</b> [family]  <b>(69)</b> [drinking]  <b>(70)</b> [walk]  <b>(71)</b> [course]  <b>(72)</b> [bat]  <b>(73)</b> [broken]  <b>(74)</b> [pile]  <b>(75)</b> [tennis]  <b>(76)</b> [hair]  <b>(77)</b> [wing]  <b>(78)</b> [hard]  <b>(79)</b> [big]  <b>(80)</b> [trunk]  <b>(81)</b> [hay]  <b>(82)</b> [street]  <b>(83)</b> [television]  <b>(84)</b> [equipment]  <b>(85)</b> [surface]  <b>(86)</b> [kicking]  <b>(87)</b> [day]  <b>(88)</b> [wall]  <b>(89)</b> [party]  <b>(90)</b> [hold]  <b>(91)</b> [smoke]  <b>(92)</b> [baked]  <b>(93)</b> [decoration]  <b>(94)</b> [chair]  <b>(95)</b> [police]  <b>(96)</b> [counter]  <b>(97)</b> [among]  <b>(98)</b> [contains]  <b>(99)</b> [striped]  <b>(100)</b> [surfer]  <b>(101)</b> [name]  <b>(102)</b> [clean]  <b>(103)</b> [hole]  <b>(104)</b> [pretty]  <b>(105)</b> [hydrant]  <b>(106)</b> [terminal]  <b>(107)</b> [graze]  <b>(108)</b> [graffiti]  <b>(109)</b> [get]  <b>(110)</b> [sits]  <b>(111)</b> [remote]  <b>(112)</b> [lunch]  <b>(113)</b> [man]  <b>(114)</b> [coat]  <b>(115)</b> [lay]  <b>(116)</b> [block]  <b>(117)</b> [vest]  <b>(118)</b> [stacked]  <b>(119)</b> [keyboard]  <b>(120)</b> [tag]  <b>(121)</b> [brushing]  <b>(122)</b> [platform]  <b>(123)</b> [skier]  <b>(124)</b> [purse]  <b>(125)</b> [container]  <b>(126)</b> [cage]  <b>(127)</b> [sticker]  <b>(128)</b> [trying]  <b>(129)</b> [sunny]  <b>(130)</b> [small]  <b>(131)</b> [skiing]  <b>(132)</b> [art]  <b>(133)</b> [farm]  <b>(134)</b> [mid]  <b>(135)</b> [standing]  <b>(136)</b> [sandy]  <b>(137)</b> [2]  <b>(138)</b> [watching]  <b>(139)</b> [snowy]  <b>(140)</b> [pickup]  <b>(141)</b> [run]  <b>(142)</b> [girl]  <b>(143)</b> [pulled]  <b>(144)</b> [sky]  <b>(145)</b> [lot]  <b>(146)</b> [sliced]  <b>(147)</b> [packed]  <b>(148)</b> [fashioned]  <b>(149)</b> [direction]  <b>(150)</b> [platter]  <b>(151)</b> [lettuce]  <b>(152)</b> [river]  <b>(153)</b> [donut]  <b>(154)</b> [missing]  <b>(155)</b> [speed]  <b>(156)</b> [high]  <b>(157)</b> [face]  <b>(158)</b> [photo]  <b>(159)</b> [plane]  <b>(160)</b> [made]  <b>(161)</b> [serve]  <b>(162)</b> [tour]  <b>(163)</b> [woman]  <b>(164)</b> [mushroom]  <b>(165)</b> [tail]  <b>(166)</b> [forest]  <b>(167)</b> [breakfast]  <b>(168)</b> [box]  <b>(169)</b> [stove]  <b>(170)</b> [black]  <b>(171)</b> [ha]  <b>(172)</b> [signal]  <b>(173)</b> [pick]  <b>(174)</b> [clear]  <b>(175)</b> [variety]  <b>(176)</b> [cooking]  <b>(177)</b> [scissors]  <b>(178)</b> [five]  <b>(179)</b> [brightly]  <b>(180)</b> [refrigerator]  <b>(181)</b> [taken]  <b>(182)</b> [glass]  <b>(183)</b> [egg]  <b>(184)</b> [growing]  <b>(185)</b> [ledge]  <b>(186)</b> [clock]  <b>(187)</b> [catching]  <b>(188)</b> [snowboard]  <b>(189)</b> [child]  <b>(190)</b> [electric]  <b>(191)</b> [say]  <b>(192)</b> [lie]  <b>(193)</b> [pan]  <b>(194)</b> [book]  <b>(195)</b> [grazing]  <b>(196)</b> [chocolate]  <b>(197)</b> [bean]  <b>(198)</b> [chef]  <b>(199)</b> [handle]  <b>(200)</b> [professional]  <b>(201)</b> [pointing]  <b>(202)</b> [make]  <b>(203)</b> [taking]  <b>(204)</b> [appears]  <b>(205)</b> [slice]  <b>(206)</b> [structure]  <b>(207)</b> [cute]  <b>(208)</b> [screen]  <b>(209)</b> [go]  <b>(210)</b> [motorcyclist]  <b>(211)</b> [take]  <b>(212)</b> [style]  <b>(213)</b> [controller]  <b>(214)</b> [airplane]  <b>(215)</b> [wrapped]  <b>(216)</b> [back]  <b>(217)</b> [stunt]  <b>(218)</b> [potato]  <b>(219)</b> [moving]  <b>(220)</b> [onto]  <b>(221)</b> [three]  <b>(222)</b> [neatly]  <b>(223)</b> [cattle]  <b>(224)</b> [driver]  <b>(225)</b> [beside]  <b>(226)</b> [disc]  <b>(227)</b> [doughnut]  <b>(228)</b> [seagull]  <b>(229)</b> [move]  <b>(230)</b> [sleeping]  <b>(231)</b> [nearby]  <b>(232)</b> [toothbrush]  <b>(233)</b> [apple]  <b>(234)</b> [lid]  <b>(235)</b> [bedroom]  <b>(236)</b> [boarding]  <b>(237)</b> [dirt]  <b>(238)</b> [tiled]  <b>(239)</b> [touching]  <b>(240)</b> [wild]  <b>(241)</b> [doorway]  <b>(242)</b> [holder]  <b>(243)</b> [bar]  <b>(244)</b> [cover]  <b>(245)</b> [fried]  <b>(246)</b> [cloudy]  <b>(247)</b> [mitt]  <b>(248)</b> [dock]  <b>(249)</b> [pizza]  <b>(250)</b> [toilet]  <b>(251)</b> [travel]  <b>(252)</b> [giraffe]  <b>(253)</b> [skateboard]  <b>(254)</b> [topping]  <b>(255)</b> [writing]  <b>(256)</b> [shelf]  <b>(257)</b> [runway]  <b>(258)</b> [jacket]  <b>(259)</b> [ketchup]  <b>(260)</b> [close-up]  <b>(261)</b> [water]  <b>(262)</b> [shoulder]  <b>(263)</b> [foreground]  <b>(264)</b> [knife]  <b>(265)</b> [kitten]  <b>(266)</b> [metal]  <b>(267)</b> [track]  <b>(268)</b> [reading]  <b>(269)</b> [shower]  <b>(270)</b> [carry]  <b>(271)</b> [candle]  <b>(272)</b> [flying]  <b>(273)</b> [pant]  <b>(274)</b> [yellow]  <b>(275)</b> [kneeling]  <b>(276)</b> [spoon]  <b>(277)</b> [paved]  <b>(278)</b> [using]  <b>(279)</b> [sausage]  <b>(280)</b> [relaxing]  <b>(281)</b> [empty]  <b>(282)</b> [resting]  <b>(283)</b> [pink]  <b>(284)</b> [walking]  <b>(285)</b> [bag]  <b>(286)</b> [pepper]  <b>(287)</b> [grass]  <b>(288)</b> [broccoli]  <b>(289)</b> [silver]  <b>(290)</b> [stop]  <b>(291)</b> [helmet]  <b>(292)</b> [stuffed]  <b>(293)</b> [pavement]  <b>(294)</b> [tree]  <b>(295)</b> [front]  <b>(296)</b> [gather]  <b>(297)</b> [outdoor]  <b>(298)</b> [race]  <b>(299)</b> [photograph]  <b>(300)</b> [cake]  <b>(301)</b> [game]  <b>(302)</b> [landing]  <b>(303)</b> [dry]  <b>(304)</b> [control]  <b>(305)</b> [lawn]  <b>(306)</b> [stone]  <b>(307)</b> [church]  <b>(308)</b> [strawberry]  <b>(309)</b> [officer]  <b>(310)</b> [airport]  <b>(311)</b> [sailing]  <b>(312)</b> [doe]  <b>(313)</b> [six]  <b>(314)</b> [plain]  <b>(315)</b> [place]  <b>(316)</b> [light]  <b>(317)</b> [giving]  <b>(318)</b> [milk]  <b>(319)</b> [fruit]  <b>(320)</b> [short]  <b>(321)</b> [frosting]  <b>(322)</b> [roll]  <b>(323)</b> [sliding]  <b>(324)</b> [outdoors]  <b>(325)</b> [pitch]  <b>(326)</b> [grill]  <b>(327)</b> [riding]  <b>(328)</b> [supply]  <b>(329)</b> [traveling]  <b>(330)</b> [motor]  <b>(331)</b> [shop]  <b>(332)</b> [served]  <b>(333)</b> [pull]  <b>(334)</b> [carriage]  <b>(335)</b> [gas]  <b>(336)</b> [play]  <b>(337)</b> [swing]  <b>(338)</b> [trail]  <b>(339)</b> [living]  <b>(340)</b> [dresser]  <b>(341)</b> [racing]  <b>(342)</b> [bite]  <b>(343)</b> [spectator]  <b>(344)</b> [perched]  <b>(345)</b> [loaded]  <b>(346)</b> [salad]  <b>(347)</b> [food]  <b>(348)</b> [table]  <b>(349)</b> [rainy]  <b>(350)</b> [city]  <b>(351)</b> [boat]  <b>(352)</b> [tow]  <b>(353)</b> [enjoying]  <b>(354)</b> [olive]  <b>(355)</b> [carpet]  <b>(356)</b> [couple]  <b>(357)</b> [surfing]  <b>(358)</b> [tray]  <b>(359)</b> [elderly]  <b>(360)</b> [nintendo]  <b>(361)</b> [coffee]  <b>(362)</b> [dressed]  <b>(363)</b> [car]  <b>(364)</b> [drink]  <b>(365)</b> [spread]  <b>(366)</b> [pose]  <b>(367)</b> [seated]  <b>(368)</b> [pickle]  <b>(369)</b> [shopping]  <b>(370)</b> [dining]  <b>(371)</b> [crossing]  <b>(372)</b> [sign]  <b>(373)</b> [eat]  <b>(374)</b> [pulling]  <b>(375)</b> [wheel]  <b>(376)</b> [beach]  <b>(377)</b> [worker]  <b>(378)</b> [fake]  <b>(379)</b> [paddle]  <b>(380)</b> [placed]  <b>(381)</b> [eats]  <b>(382)</b> [doll]  <b>(383)</b> [lap]  <b>(384)</b> [lush]  <b>(385)</b> [harbor]  <b>(386)</b> [zebra]  <b>(387)</b> [thing]  <b>(388)</b> [sweater]  <b>(389)</b> [sit]  <b>(390)</b> [snowboarder]  <b>(391)</b> [show]  <b>(392)</b> [duck]  <b>(393)</b> [four]  <b>(394)</b> [basket]  <b>(395)</b> [rain]  <b>(396)</b> [row]  <b>(397)</b> [indoor]  <b>(398)</b> [store]  <b>(399)</b> [statue]  <b>(400)</b> [vehicle]  <b>(401)</b> [female]  <b>(402)</b> [colored]  <b>(403)</b> [tooth]  <b>(404)</b> [cutting]  <b>(405)</b> [commercial]  <b>(406)</b> [dog]  <b>(407)</b> [giant]  <b>(408)</b> [public]  <b>(409)</b> [decker]  <b>(410)</b> [shirtless]  <b>(411)</b> [skate]  <b>(412)</b> [jean]  <b>(413)</b> [flock]  <b>(414)</b> [stair]  <b>(415)</b> [tied]  <b>(416)</b> [step]  <b>(417)</b> [paw]  <b>(418)</b> [mouse]  <b>(419)</b> [jump]  <b>(420)</b> [steel]  <b>(421)</b> [cat]  <b>(422)</b> [desk]  <b>(423)</b> [feeding]  <b>(424)</b> [flower]  <b>(425)</b> [design]  <b>(426)</b> [flip]  <b>(427)</b> [modern]  <b>(428)</b> [adult]  <b>(429)</b> [someone]  <b>(430)</b> [wet]  <b>(431)</b> [log]  <b>(432)</b> [wind]  <b>(433)</b> [toddler]  <b>(434)</b> [shore]  <b>(435)</b> [hitting]  <b>(436)</b> [slope]  <b>(437)</b> [island]  <b>(438)</b> [decorative]  <b>(439)</b> [cup]  <b>(440)</b> [pasta]  <b>(441)</b> [enclosed]  <b>(442)</b> [soccer]  <b>(443)</b> [animal]  <b>(444)</b> [air]  <b>(445)</b> [carrot]  <b>(446)</b> [palm]  <b>(447)</b> [getting]  <b>(448)</b> [pillow]  <b>(449)</b> [leaf]  <b>(450)</b> [laid]  <b>(451)</b> [wooden]  <b>(452)</b> [attempting]  <b>(453)</b> [rolling]  <b>(454)</b> [color]  <b>(455)</b> [highway]  <b>(456)</b> [sill]  <b>(457)</b> [rest]  <b>(458)</b> [narrow]  <b>(459)</b> [branch]  <b>(460)</b> [filled]  <b>(461)</b> [lady]  <b>(462)</b> [smile]  <b>(463)</b> [foot]  <b>(464)</b> [appliance]  <b>(465)</b> [sheep]  <b>(466)</b> [sandwich]  <b>(467)</b> [deck]  <b>(468)</b> [written]  <b>(469)</b> [fork]  <b>(470)</b> [christmas]  <b>(471)</b> [match]  <b>(472)</b> [kite]  <b>(473)</b> [aircraft]  <b>(474)</b> [cabinet]  <b>(475)</b> [cooked]  <b>(476)</b> [lamp]  <b>(477)</b> [rail]  <b>(478)</b> [grey]  <b>(479)</b> [corner]  <b>(480)</b> [playing]  <b>(481)</b> [sunglass]  <b>(482)</b> [sofa]  <b>(483)</b> [towards]  <b>(484)</b> [end]  <b>(485)</b> [orange]  <b>(486)</b> [huge]  <b>(487)</b> [purple]  <b>(488)</b> [working]  <b>(489)</b> [pastry]  <b>(490)</b> [cart]  <b>(491)</b> [van]  <b>(492)</b> [vas]  <b>(493)</b> [talking]  <b>(494)</b> [cream]  <b>(495)</b> [painted]  <b>(496)</b> [display]  <b>(497)</b> [dinner]  <b>(498)</b> [closed]  <b>(499)</b> [turn]  <b>(500)</b> [fireplace]"
      ],
      "text/plain": [
       "<IPython.core.display.HTML object>"
      ]
     },
     "metadata": {},
     "output_type": "display_data"
    },
    {
     "data": {
      "text/html": [
       "<h3>Unknown label-space</h3>"
      ],
      "text/plain": [
       "<IPython.core.display.HTML object>"
      ]
     },
     "metadata": {},
     "output_type": "display_data"
    },
    {
     "data": {
      "text/html": [
       "<b>(1)</b> [inside]  <b>(2)</b> [bottle]  <b>(3)</b> [flag]  <b>(4)</b> [railing]  <b>(5)</b> [backpack]  <b>(6)</b> [toast]  <b>(7)</b> [containing]  <b>(8)</b> [square]  <b>(9)</b> [model]  <b>(10)</b> [passing]  <b>(11)</b> [pond]  <b>(12)</b> [ball]  <b>(13)</b> [attached]  <b>(14)</b> [painting]  <b>(15)</b> [beneath]  <b>(16)</b> [flight]  <b>(17)</b> [gathered]  <b>(18)</b> [laptop]  <b>(19)</b> [lit]  <b>(20)</b> [house]  <b>(21)</b> [outside]  <b>(22)</b> [shoe]  <b>(23)</b> [tent]  <b>(24)</b> [polar]  <b>(25)</b> [scene]  <b>(26)</b> [racquet]  <b>(27)</b> [arm]  <b>(28)</b> [shirt]  <b>(29)</b> [couch]  <b>(30)</b> [room]  <b>(31)</b> [driving]  <b>(32)</b> [long]  <b>(33)</b> [fish]  <b>(34)</b> [cupcake]  <b>(35)</b> [wa]  <b>(36)</b> [dish]  <b>(37)</b> [lying]  <b>(38)</b> [looking]  <b>(39)</b> [ready]  <b>(40)</b> [reflection]  <b>(41)</b> [shown]  <b>(42)</b> [skateboarding]  <b>(43)</b> [antique]  <b>(44)</b> [holding]  <b>(45)</b> [baseball]  <b>(46)</b> [shape]  <b>(47)</b> [shot]  <b>(48)</b> [top]  <b>(49)</b> [cow]  <b>(50)</b> [lined]  <b>(51)</b> [sunset]  <b>(52)</b> [lemon]  <b>(53)</b> [cheese]  <b>(54)</b> [beige]  <b>(55)</b> [clothes]  <b>(56)</b> [bush]  <b>(57)</b> [ship]  <b>(58)</b> [tub]  <b>(59)</b> [sleep]  <b>(60)</b> [dirty]  <b>(61)</b> [trailer]  <b>(62)</b> [rear]  <b>(63)</b> [point]  <b>(64)</b> [mountain]  <b>(65)</b> [number]  <b>(66)</b> [falling]  <b>(67)</b> [wagon]  <b>(68)</b> [body]  <b>(69)</b> [concrete]  <b>(70)</b> [assorted]  <b>(71)</b> [soup]  <b>(72)</b> [camera]  <b>(73)</b> [post]  <b>(74)</b> [bathroom]  <b>(75)</b> [urban]  <b>(76)</b> [older]  <b>(77)</b> [prepares]  <b>(78)</b> [parking]  <b>(79)</b> [hang]  <b>(80)</b> [sculpture]  <b>(81)</b> [plate]  <b>(82)</b> [tall]  <b>(83)</b> [guy]  <b>(84)</b> [winter]  <b>(85)</b> [one]  <b>(86)</b> [lean]  <b>(87)</b> [tv]  <b>(88)</b> [cross]  <b>(89)</b> [rock]  <b>(90)</b> [wait]  <b>(91)</b> [upside]  <b>(92)</b> [bike]  <b>(93)</b> [eating]  <b>(94)</b> [railroad]  <b>(95)</b> [bath]  <b>(96)</b> [throw]  <b>(97)</b> [ramp]  <b>(98)</b> [bed]  <b>(99)</b> [propeller]  <b>(100)</b> [seat]  <b>(101)</b> [commuter]  <b>(102)</b> [setting]  <b>(103)</b> [collection]  <b>(104)</b> [two]  <b>(105)</b> [picture]  <b>(106)</b> [onion]  <b>(107)</b> [uniform]  <b>(108)</b> [eye]  <b>(109)</b> [puppy]  <b>(110)</b> [pipe]  <b>(111)</b> [ocean]  <b>(112)</b> [another]  <b>(113)</b> [eaten]  <b>(114)</b> [single]  <b>(115)</b> [luggage]  <b>(116)</b> [full]  <b>(117)</b> [fan]  <b>(118)</b> [surrounded]  <b>(119)</b> [pasture]  <b>(120)</b> [school]  <b>(121)</b> [cut]  <b>(122)</b> [watch]  <b>(123)</b> [player]  <b>(124)</b> [past]  <b>(125)</b> [country]  <b>(126)</b> [fire]  <b>(127)</b> [cement]  <b>(128)</b> [young]  <b>(129)</b> [clothing]  <b>(130)</b> [part]  <b>(131)</b> [alone]  <b>(132)</b> [sized]  <b>(133)</b> [noodle]  <b>(134)</b> [deep]  <b>(135)</b> [business]  <b>(136)</b> [wine]  <b>(137)</b> [preparing]  <b>(138)</b> [path]  <b>(139)</b> [posing]  <b>(140)</b> [rose]  <b>(141)</b> [tarmac]  <b>(142)</b> [hand]  <b>(143)</b> [garden]  <b>(144)</b> [paper]  <b>(145)</b> [pole]  <b>(146)</b> [floating]  <b>(147)</b> [gray]  <b>(148)</b> [window]  <b>(149)</b> [curb]  <b>(150)</b> [tool]  <b>(151)</b> [ski]  <b>(152)</b> [fenced]  <b>(153)</b> [lone]  <b>(154)</b> [rope]  <b>(155)</b> [parked]  <b>(156)</b> [suitcase]  <b>(157)</b> [garage]  <b>(158)</b> [wii]  <b>(159)</b> [electronic]  <b>(160)</b> [docked]  <b>(161)</b> [dress]  <b>(162)</b> [running]  <b>(163)</b> [catcher]  <b>(164)</b> [tie]  <b>(165)</b> [messy]  <b>(166)</b> [mouth]  <b>(167)</b> [pool]  <b>(168)</b> [home]  <b>(169)</b> [different]  <b>(170)</b> [pie]  <b>(171)</b> [blanket]  <b>(172)</b> [along]  <b>(173)</b> [stick]  <b>(174)</b> [stopped]  <b>(175)</b> [hat]  <b>(176)</b> [hanging]  <b>(177)</b> [bright]  <b>(178)</b> [phone]  <b>(179)</b> [produce]  <b>(180)</b> [utensil]  <b>(181)</b> [paint]  <b>(182)</b> [beverage]  <b>(183)</b> [birthday]  <b>(184)</b> [serving]  <b>(185)</b> [tile]  <b>(186)</b> [station]  <b>(187)</b> [talk]  <b>(188)</b> [drive]  <b>(189)</b> [right]  <b>(190)</b> [crowd]  <b>(191)</b> [atop]  <b>(192)</b> [desktop]  <b>(193)</b> [roadway]  <b>(194)</b> [wire]  <b>(195)</b> [scooter]  <b>(196)</b> [underneath]  <b>(197)</b> [read]  <b>(198)</b> [stuff]  <b>(199)</b> [trick]  <b>(200)</b> [fly]  <b>(201)</b> [sea]  <b>(202)</b> [wood]  <b>(203)</b> [dessert]  <b>(204)</b> [park]  <b>(205)</b> [behind]  <b>(206)</b> [overhead]  <b>(207)</b> [arranged]  <b>(208)</b> [word]  <b>(209)</b> [night]  <b>(210)</b> [meter]  <b>(211)</b> [fresh]  <b>(212)</b> [bridge]  <b>(213)</b> [computer]  <b>(214)</b> [meat]  <b>(215)</b> [approaching]  <b>(216)</b> [desert]  <b>(217)</b> [wave]  <b>(218)</b> [wooded]  <b>(219)</b> [individual]  <b>(220)</b> [tea]  <b>(221)</b> [held]  <b>(222)</b> [loading]  <b>(223)</b> [case]  <b>(224)</b> [traffic]  <b>(225)</b> [type]  <b>(226)</b> [stainless]  <b>(227)</b> [cloth]  <b>(228)</b> [performs]  <b>(229)</b> [vegetable]  <b>(230)</b> [train]  <b>(231)</b> [set]  <b>(232)</b> [vanity]  <b>(233)</b> [ceiling]  <b>(234)</b> [swinging]  <b>(235)</b> [fighter]  <b>(236)</b> [passenger]  <b>(237)</b> [telephone]  <b>(238)</b> [left]  <b>(239)</b> [close]  <b>(240)</b> [gold]  <b>(241)</b> [chain]  <b>(242)</b> [umbrella]  <b>(243)</b> [rural]  <b>(244)</b> [piece]  <b>(245)</b> [bowl]  <b>(246)</b> [away]  <b>(247)</b> [kind]  <b>(248)</b> [put]  <b>(249)</b> [hillside]  <b>(250)</b> [open]  <b>(251)</b> [town]  <b>(252)</b> [use]  <b>(253)</b> [hit]  <b>(254)</b> [surfboard]  <b>(255)</b> [alongside]  <b>(256)</b> [beer]  <b>(257)</b> [plant]  <b>(258)</b> [plastic]  <b>(259)</b> [chip]  <b>(260)</b> [reaching]  <b>(261)</b> [includes]  <b>(262)</b> [leg]  <b>(263)</b> [colorful]  <b>(264)</b> [gear]  <b>(265)</b> [bacon]  <b>(266)</b> [soda]  <b>(267)</b> [engine]  <b>(268)</b> [tank]  <b>(269)</b> [``]  <b>(270)</b> [us]  <b>(271)</b> [tower]  <b>(272)</b> [bus]  <b>(273)</b> [jar]  <b>(274)</b> [stall]  <b>(275)</b> [see]  <b>(276)</b> [wide]  <b>(277)</b> [round]  <b>(278)</b> [jumping]  <b>(279)</b> [teeth]  <b>(280)</b> [intersection]  <b>(281)</b> [microwave]  <b>(282)</b> [field]  <b>(283)</b> [mirror]  <b>(284)</b> [fridge]  <b>(285)</b> [catch]  <b>(286)</b> [rack]  <b>(287)</b> [fry]  <b>(288)</b> [market]  <b>(289)</b> [used]  <b>(290)</b> [showing]  <b>(291)</b> [center]  <b>(292)</b> [sticking]  <b>(293)</b> [boarder]  <b>(294)</b> [blurry]  <b>(295)</b> [wearing]  <b>(296)</b> [tiny]  <b>(297)</b> [goat]  <b>(298)</b> [baby]  <b>(299)</b> [line]  <b>(300)</b> [machine]  <b>(301)</b> [building]  <b>(302)</b> [leading]  <b>(303)</b> [american]  <b>(304)</b> [mug]  <b>(305)</b> [facing]  <b>(306)</b> [bathtub]  <b>(307)</b> [area]  <b>(308)</b> [construction]  <b>(309)</b> [mounted]  <b>(310)</b> [bicycle]  <b>(311)</b> [roof]  <b>(312)</b> [half]  <b>(313)</b> [assortment]  <b>(314)</b> [base]  <b>(315)</b> [snack]  <b>(316)</b> [throwing]  <b>(317)</b> [monitor]  <b>(318)</b> [carrying]  <b>(319)</b> [frame]  <b>(320)</b> [men]  <b>(321)</b> [pot]  <b>(322)</b> [pass]  <b>(323)</b> [ride]  <b>(324)</b> [double]  <b>(325)</b> [glove]  <b>(326)</b> [bread]  <b>(327)</b> [near]  <b>(328)</b> [middle]  <b>(329)</b> [pen]  <b>(330)</b> [string]  <b>(331)</b> [outfit]  <b>(332)</b> [friend]  <b>(333)</b> [stool]  <b>(334)</b> [green]  <b>(335)</b> [walkway]  <b>(336)</b> [edge]  <b>(337)</b> [sale]  <b>(338)</b> [cellphone]  <b>(339)</b> [low]  <b>(340)</b> [device]  <b>(341)</b> [staring]  <b>(342)</b> [apartment]  <b>(343)</b> [nice]  <b>(344)</b> [toy]  <b>(345)</b> [ground]  <b>(346)</b> [umpire]  <b>(347)</b> [boy]  <b>(348)</b> [team]  <b>(349)</b> [office]  <b>(350)</b> [elephant]  <b>(351)</b> [bucket]  <b>(352)</b> [barn]  <b>(353)</b> [blue]  <b>(354)</b> [smiling]  <b>(355)</b> [airliner]  <b>(356)</b> [still]  <b>(357)</b> [shade]  <b>(358)</b> [next]  <b>(359)</b> [laying]  <b>(360)</b> [across]  <b>(361)</b> [meal]  <b>(362)</b> [turned]  <b>(363)</b> [floor]  <b>(364)</b> [others]  <b>(365)</b> [banana]  <b>(366)</b> [enclosure]  <b>(367)</b> [beautiful]  <b>(368)</b> [performing]  <b>(369)</b> [teddy]  <b>(370)</b> [displayed]  <b>(371)</b> [rice]  <b>(372)</b> [little]  <b>(373)</b> [trash]  <b>(374)</b> [side]  <b>(375)</b> [good]  <b>(376)</b> [smart]  <b>(377)</b> [cloud]  <b>(378)</b> [wedding]  <b>(379)</b> [various]  <b>(380)</b> [built]  <b>(381)</b> [leather]  <b>(382)</b> [curtain]  <b>(383)</b> [toward]  <b>(384)</b> [opened]  <b>(385)</b> [batter]  <b>(386)</b> [pepperoni]  <b>(387)</b> [cap]  <b>(388)</b> [bow]  <b>(389)</b> [restroom]  <b>(390)</b> [guitar]  <b>(391)</b> [people]  <b>(392)</b> [large]  <b>(393)</b> [sailboat]  <b>(394)</b> [old]  <b>(395)</b> [stand]  <b>(396)</b> [coming]  <b>(397)</b> [item]  <b>(398)</b> [blender]  <b>(399)</b> [space]  <b>(400)</b> [restaurant]  <b>(401)</b> [brush]  <b>(402)</b> [around]  <b>(403)</b> [subway]  <b>(404)</b> [steam]  <b>(405)</b> [locomotive]  <b>(406)</b> [ornate]  <b>(407)</b> [siting]  <b>(408)</b> [residential]  <b>(409)</b> [urinal]  <b>(410)</b> [brown]  <b>(411)</b> [rocky]  <b>(412)</b> [fence]  <b>(413)</b> [drawn]  <b>(414)</b> [leash]  <b>(415)</b> [board]  <b>(416)</b> [displaying]  <b>(417)</b> [land]  <b>(418)</b> [patio]  <b>(419)</b> [wear]  <b>(420)</b> [fancy]  <b>(421)</b> [well]  <b>(422)</b> [reach]  <b>(423)</b> [veggie]  <b>(424)</b> [military]  <b>(425)</b> [gate]  <b>(426)</b> [costume]  <b>(427)</b> [hill]  <b>(428)</b> [busy]  <b>(429)</b> [sport]  <b>(430)</b> [together]  <b>(431)</b> [new]  <b>(432)</b> [leaning]  <b>(433)</b> [dark]  <b>(434)</b> [many]  <b>(435)</b> [ripe]  <b>(436)</b> [red]  <b>(437)</b> [head]  <b>(438)</b> [video]  <b>(439)</b> [lift]  <b>(440)</b> [road]  <b>(441)</b> [image]  <b>(442)</b> [view]  <b>(443)</b> [power]  <b>(444)</b> [bun]  <b>(445)</b> [background]  <b>(446)</b> [bear]  <b>(447)</b> [crowded]  <b>(448)</b> [sun]  <b>(449)</b> [like]  <b>(450)</b> [net]  <b>(451)</b> [yard]  <b>(452)</b> [parade]  <b>(453)</b> [brick]  <b>(454)</b> [cone]  <b>(455)</b> [smaller]  <b>(456)</b> [pet]  <b>(457)</b> [multiple]  <b>(458)</b> [group]  <b>(459)</b> [making]  <b>(460)</b> [overlooking]  <b>(461)</b> [covered]  <b>(462)</b> [surf]  <b>(463)</b> [neck]  <b>(464)</b> [distance]  <b>(465)</b> [sand]  <b>(466)</b> [sheet]  <b>(467)</b> [going]  <b>(468)</b> [stack]  <b>(469)</b> [transit]  <b>(470)</b> [bird]  <b>(471)</b> [door]  <b>(472)</b> [zoo]  <b>(473)</b> [picnic]  <b>(474)</b> [kid]  <b>(475)</b> [crosswalk]  <b>(476)</b> [happy]  <b>(477)</b> [grassy]  <b>(478)</b> [herd]  <b>(479)</b> [action]  <b>(480)</b> [sink]  <b>(481)</b> [skating]  <b>(482)</b> [tan]  <b>(483)</b> [pair]  <b>(484)</b> [tomato]  <b>(485)</b> [bench]  <b>(486)</b> [court]  <b>(487)</b> [feature]  <b>(488)</b> [formation]  <b>(489)</b> [snowboarding]  <b>(490)</b> [shaped]  <b>(491)</b> [hotel]  <b>(492)</b> [pier]  <b>(493)</b> [mother]  <b>(494)</b> [asian]  <b>(495)</b> [sitting]  <b>(496)</b> [museum]  <b>(497)</b> [hotdog]  <b>(498)</b> [rider]  <b>(499)</b> [rug]  <b>(500)</b> [snow]"
      ],
      "text/plain": [
       "<IPython.core.display.HTML object>"
      ]
     },
     "metadata": {},
     "output_type": "display_data"
    }
   ],
   "source": [
    "def random_split_labelspace(data, numKnownLabels = 40):\n",
    "    random_seq = np.random.permutation(data.numCategories())\n",
    "    # We know the first K labels.\n",
    "    knownLabels = [data.vocabulary[1].keys()[idx] for idx in random_seq[:numKnownLabels]]\n",
    "    knownLabelIds = [data.word2id(word) for word in knownLabels]\n",
    "\n",
    "    # We don't know the other labels.\n",
    "    unknownLabels = [data.vocabulary[1].keys()[idx] for idx in random_seq[numKnownLabels:]]\n",
    "    unknownLabelIds = [data.word2id(word) for word in unknownLabels]\n",
    "    return knownLabels, knownLabelIds, unknownLabels, unknownLabelIds\n",
    "\n",
    "label_space_split_file = 'coco_label_split500.p'\n",
    "\n",
    "if not os.path.exists(label_space_split_file):\n",
    "    knownLabels, knownLabelIds, unknownLabels, unknownLabelIds = random_split_labelspace(valData, 500)\n",
    "    torch.save({'knownLabelIds': knownLabelIds, 'unknownLabelIds': unknownLabelIds,\n",
    "                'knownLabels': knownLabels, 'unknownLabels': unknownLabels},\n",
    "                open(label_space_split_file, 'w'))\n",
    "else:\n",
    "    space = torch.load(open(label_space_split_file))\n",
    "    knownLabelIds = space['knownLabelIds']\n",
    "    unknownLabelIds = space['unknownLabelIds']\n",
    "    knownLabels = space['knownLabels']\n",
    "    unknownLabels = space['unknownLabels']\n",
    "# Show the two groups.\n",
    "labelspace = ['<b>(%d)</b> [%s]' % (i + 1, label) for (i, label) in enumerate(knownLabels)]\n",
    "labelspace = string.join(labelspace, '  ')\n",
    "display(HTML('<h3>Known label-space</h3>'))\n",
    "display(HTML(labelspace))\n",
    "\n",
    "labelspace = ['<b>(%d)</b> [%s]' % (i + 1, label) for (i, label) in enumerate(unknownLabels)]\n",
    "labelspace = string.join(labelspace, '  ')\n",
    "display(HTML('<h3>Unknown label-space</h3>'))\n",
    "display(HTML(labelspace))"
   ]
  },
  {
   "cell_type": "markdown",
   "metadata": {},
   "source": [
    "## Layer-wise Feedback-prop"
   ]
  },
  {
   "cell_type": "code",
   "execution_count": 10,
   "metadata": {},
   "outputs": [],
   "source": [
    "class LF(nn.Module):\n",
    "\n",
    "    def __init__(self, n_categories):\n",
    "        super(LF, self).__init__()\n",
    "       \n",
    "        self.n_categories = n_categories\n",
    "        self.base_network = models.resnet18(pretrained = True)\n",
    "        \n",
    "        self.base_network.fc = nn.Conv2d(512, n_categories, 1)\n",
    "        \n",
    "        self.layers = [\n",
    "            ('input_image', lambda x:x),\n",
    "            ('conv1', lambda x: self.base_network.conv1(x)),\n",
    "            ('conv5', lambda x: self.base_network.layer1(self.base_network.maxpool(\n",
    "                self.base_network.relu(self.base_network.bn1(x))))),\n",
    "            ('conv9',  lambda x: self.base_network.layer2(x)),\n",
    "            ('conv13', lambda x: self.base_network.layer3(x)),\n",
    "            ('conv17', lambda x: self.base_network.layer4(x)),\n",
    "            ('fc', lambda x: self.base_network.fc(x)),\n",
    "        ]\n",
    "\n",
    "    def forward(self, x):\n",
    "        for name, operator in self.layers:\n",
    "            x = operator(x)\n",
    "            setattr(self, name, x)\n",
    "        # Take the max for each prediction map.\n",
    "        return x.max(dim = 2, keepdim=True)[0].max(dim = 3, keepdim=True)[0].squeeze()\n",
    "    \n",
    "    def partial_forward(self, start):\n",
    "        skip = True\n",
    "        for name, operator in self.layers:\n",
    "            if name == start:\n",
    "                x = getattr(self, name)\n",
    "                skip = False\n",
    "            elif skip:\n",
    "                continue\n",
    "            else:\n",
    "                x = operator(x)\n",
    "                setattr(self, name, x)\n",
    "\n",
    "        return x.max(dim = 2, keepdim=True)[0].max(dim = 3, keepdim=True)[0].squeeze()"
   ]
  },
  {
   "cell_type": "code",
   "execution_count": 11,
   "metadata": {},
   "outputs": [
    {
     "name": "stdout",
     "output_type": "stream",
     "text": [
      "=> loaded checkpoint (epoch 41)\n"
     ]
    }
   ],
   "source": [
    "# Prepare model.\n",
    "LF_model = LF(1000)\n",
    "LF_model = nn.DataParallel(LF_model).cuda()\n",
    "checkpoint = torch.load(os.path.join(args.logDir, 'model_best.pth.tar'))\n",
    "args.startEpoch = checkpoint['epoch']\n",
    "best_error = checkpoint['error']\n",
    "LF_model.load_state_dict(checkpoint['state_dict'])\n",
    "print(\"=> loaded checkpoint (epoch {})\".format(checkpoint['epoch']))"
   ]
  },
  {
   "cell_type": "code",
   "execution_count": 30,
   "metadata": {
    "collapsed": true
   },
   "outputs": [],
   "source": [
    "def feedback_prop_lf_val(net, knownLabelIds, unknownLabelIds, layers=['input_a'], num_iterations=20, lr=1e-3):\n",
    "    net.eval()\n",
    "    test_loss = 0\n",
    "    correct = 0\n",
    "    results = defaultdict(list)\n",
    "    t = tqdm(valLoader, desc=\"Evaluating on Val:\")\n",
    "    t_knownLabelIds   = torch.LongTensor(knownLabelIds).cuda()\n",
    "    t_unknownLabelIds = torch.LongTensor(unknownLabelIds).cuda()\n",
    "    \n",
    "    for batch_idx, (data, target, imageIds) in enumerate(t):\n",
    "        # Prepare inputs.\n",
    "#         if batch_idx == 10: break\n",
    "        data, target = data.cuda(), target.cuda()\n",
    "        data, target = Variable(data), Variable(target)\n",
    "\n",
    "        # Inference.\n",
    "        output = net(data)\n",
    "        # Check the performance of known and unknown subsets\n",
    "        knownLabelPredictions = output.index_select(1, Variable(t_knownLabelIds))\n",
    "        knownLabelValues = target.index_select(1, Variable(t_knownLabelIds))\n",
    "        unknownLabelPredictions = output.index_select(1, Variable(t_unknownLabelIds))\n",
    "        unknownLabelValues = target.index_select(1, Variable(t_unknownLabelIds))\n",
    "        \n",
    "        for layer in layers:\n",
    "            activation = Variable(getattr(net.module, layer).data, requires_grad=True)\n",
    "            setattr(net.module, layer, activation)\n",
    "            \n",
    "            optimizer = optim.Adam([activation], lr = lr, weight_decay = 1e-4)\n",
    "            for iteration in range(0, num_iterations):\n",
    "                output = net.module.partial_forward(layer)\n",
    "                knownLabelPredictions = output.index_select(1, Variable(t_knownLabelIds))\n",
    "                loss = F.binary_cross_entropy_with_logits(knownLabelPredictions, knownLabelValues)\n",
    "                optimizer.zero_grad()  \n",
    "                loss.backward()\n",
    "                optimizer.step()\n",
    "                if layer == layers[-1]:\n",
    "                    results[iteration].append((imageIds, output.data.cpu(), target.data.cpu()))\n",
    "            output = net.module.partial_forward(layer)\n",
    "            if layer == layers[-1]:\n",
    "                results[iteration + 1].append((imageIds, output.data.cpu(), target.data.cpu()))\n",
    "            activation.requires_grad = False  # Freeze this layer.\n",
    "\n",
    "        # Logging information.\n",
    "        pred = output.data.max(1, keepdim=True)[1] # get the index of the max log-probability\n",
    "        correct += torch.gather(target.data, 1, pred).cpu().sum()\n",
    "        t.set_postfix(correct = str(correct))\n",
    "    \n",
    "    predictions = dict()\n",
    "    for iteration in results.keys():\n",
    "        predictions[iteration] = torch.cat([entry[1] for entry in results[iteration]], 0)\n",
    "    targets = torch.cat([entry[2] for entry in results[0]], 0)\n",
    "    \n",
    "    meanAP_unknown = list()\n",
    "    meanAP_known = list()\n",
    "    unknown_targets = targets.index_select(1, torch.LongTensor(unknownLabelIds)).numpy()\n",
    "    known_targets = targets.index_select(1, torch.LongTensor(knownLabelIds)).numpy()\n",
    "    for iteration in range(len(results)):\n",
    "        meanAP_unknown.append(100 * ( average_precision_score(unknown_targets,\n",
    "            (predictions[iteration] + 1e-5).index_select(1, torch.LongTensor(unknownLabelIds)).numpy(), average='macro')))\n",
    "        meanAP_known.append(100 * ( average_precision_score(known_targets,\n",
    "            (predictions[iteration] + 1e-5).index_select(1, torch.LongTensor(knownLabelIds)).numpy(), average='macro')))\n",
    "\n",
    "    \n",
    "    return meanAP_unknown, meanAP_known"
   ]
  },
  {
   "cell_type": "code",
   "execution_count": 42,
   "metadata": {},
   "outputs": [
    {
     "data": {
      "application/vnd.jupyter.widget-view+json": {
       "model_id": "9ad29d271017442e9b120ca3de7e137c"
      }
     },
     "metadata": {},
     "output_type": "display_data"
    },
    {
     "name": "stdout",
     "output_type": "stream",
     "text": [
      "('number of iteration for max meanAP:', 10)\n"
     ]
    }
   ],
   "source": [
    "meanAP_unknown, meanAP_known = feedback_prop_lf_val(\n",
    "    LF_model, knownLabelIds, unknownLabelIds, layers=['conv13'], num_iterations=20, lr=3e-3)\n",
    "print(\"number of iteration for max meanAP:\", np.argmax(np.asarray(meanAP_unknown)))"
   ]
  },
  {
   "cell_type": "code",
   "execution_count": 43,
   "metadata": {},
   "outputs": [
    {
     "data": {
      "text/plain": [
       "<matplotlib.axes._subplots.AxesSubplot at 0x7f13406018d0>"
      ]
     },
     "execution_count": 43,
     "metadata": {},
     "output_type": "execute_result"
    },
    {
     "data": {
      "text/plain": [
       "<matplotlib.figure.Figure at 0x7f13408063d0>"
      ]
     },
     "metadata": {},
     "output_type": "display_data"
    },
    {
     "data": {
      "image/png": "[encoded data removed]",
      "text/plain": [
       "<matplotlib.figure.Figure at 0x7f13469bae50>"
      ]
     },
     "metadata": {},
     "output_type": "display_data"
    }
   ],
   "source": [
    "df = pd.DataFrame({'meanAP': meanAP_unknown}, index = range(0, 21))\n",
    "df.index.name = \"epochs\"\n",
    "plt.figure()\n",
    "df.plot(title=' '.join('conv13'))"
   ]
  },
  {
   "cell_type": "markdown",
   "metadata": {},
   "source": [
    "### Tune parameters(learning_rate and num_iterations) on val set and apply on test set"
   ]
  },
  {
   "cell_type": "code",
   "execution_count": 53,
   "metadata": {
    "collapsed": true
   },
   "outputs": [],
   "source": [
    "def feedback_prop_lf_test(net, knownLabelIds, unknownLabelIds, layers=['input_a'], num_iterations=20, lr=1e-3):\n",
    "    net.eval()\n",
    "    test_loss = 0\n",
    "    correct = 0\n",
    "    results = list()\n",
    "    t = tqdm(testLoader, desc=\"Evaluating on Test:\")\n",
    "    t_knownLabelIds   = torch.LongTensor(knownLabelIds).cuda()\n",
    "    t_unknownLabelIds = torch.LongTensor(unknownLabelIds).cuda()\n",
    "    \n",
    "    for batch_idx, (data, target, imageIds) in enumerate(t):\n",
    "        # Prepare inputs.\n",
    "#         if batch_idx == 3: break\n",
    "        data, target = data.cuda(), target.cuda()\n",
    "        data, target = Variable(data), Variable(target)\n",
    "\n",
    "        # Inference.\n",
    "        output = net(data)\n",
    "        # Check the performance of known and unknown subsets\n",
    "        knownLabelPredictions = output.index_select(1, Variable(t_knownLabelIds))\n",
    "        knownLabelValues = target.index_select(1, Variable(t_knownLabelIds))\n",
    "        unknownLabelPredictions = output.index_select(1, Variable(t_unknownLabelIds))\n",
    "        unknownLabelValues = target.index_select(1, Variable(t_unknownLabelIds))\n",
    "        \n",
    "        for layer in layers:\n",
    "            activation = Variable(getattr(net.module, layer).data, requires_grad=True)\n",
    "            setattr(net.module, layer, activation)\n",
    "            \n",
    "            optimizer = optim.Adam([activation], lr = lr, weight_decay = 1e-4)\n",
    "            for iteration in range(0, num_iterations):\n",
    "                output = net.module.partial_forward(layer)\n",
    "                knownLabelPredictions = output.index_select(1, Variable(t_knownLabelIds))\n",
    "                loss = F.binary_cross_entropy_with_logits(knownLabelPredictions, knownLabelValues)\n",
    "                optimizer.zero_grad()  \n",
    "                loss.backward()\n",
    "                optimizer.step()\n",
    "            output = net.module.partial_forward(layer)\n",
    "            activation.requires_grad = False  # Freeze this layer.\n",
    "\n",
    "        # Logging information.\n",
    "        results.append((imageIds, output.data.cpu(), target.data.cpu(), unknownLabelPredictions.data.cpu()))\n",
    "        pred = output.data.max(1, keepdim=True)[1] # get the index of the max log-probability\n",
    "        correct += torch.gather(target.data, 1, pred).cpu().sum()\n",
    "        t.set_postfix(correct = str(correct))\n",
    "    \n",
    "    predictions = torch.cat([entry[1] for entry in results], 0)\n",
    "    targets = torch.cat([entry[2] for entry in results], 0)\n",
    "    ori_predictions = torch.cat([entry[3] for entry in results], 0)\n",
    "    old_meanAP = 100 * (average_precision_score(targets.index_select(1, torch.LongTensor(unknownLabelIds)).numpy(),\n",
    "                                     (ori_predictions + 1e-5).numpy(),\n",
    "                                    average = 'macro'))\n",
    "    new_meanAP = 100 * (average_precision_score(targets.index_select(1, torch.LongTensor(unknownLabelIds)).numpy(),\n",
    "                                     (predictions + 1e-5).index_select(1, torch.LongTensor(unknownLabelIds)).numpy(),\n",
    "                                    average = 'macro'))\n",
    "    \n",
    "    return old_meanAP, new_meanAP"
   ]
  },
  {
   "cell_type": "markdown",
   "metadata": {},
   "source": [
    "#### Note that once ***unknown set*** and ***known set*** are regenerated, meanAP score could be different from the numbers reported in the paper."
   ]
  },
  {
   "cell_type": "code",
   "execution_count": 57,
   "metadata": {},
   "outputs": [
    {
     "name": "stdout",
     "output_type": "stream",
     "text": [
      "meanAP of test split without feedback-prop: 22.9942420978\n",
      "meanAP of test split with layer-wise feedback-prop: 25.2597447873\n"
     ]
    }
   ],
   "source": [
    "mAP_base, mAP_lf = feedback_prop_lf_test(LF_model, knownLabelIds, unknownLabelIds, layers=['conv13'], num_iterations=10, lr=3e-3)\n",
    "print('meanAP of test split without feedback-prop: {}\\nmeanAP of test split with layer-wise feedback-prop: {}'.format(mAP_base, mAP_lf))"
   ]
  },
  {
   "cell_type": "markdown",
   "metadata": {},
   "source": [
    "## Residual Feedback-prop"
   ]
  },
  {
   "cell_type": "code",
   "execution_count": 62,
   "metadata": {},
   "outputs": [],
   "source": [
    "class RF(nn.Module):\n",
    "\n",
    "    def __init__(self, n_categories):\n",
    "        super(RF, self).__init__()\n",
    "       \n",
    "        self.n_categories = n_categories\n",
    "        self.base_network = models.resnet18(pretrained = True)\n",
    "        \n",
    "        self.base_network.fc = nn.Conv2d(512, n_categories, 1)\n",
    "        \n",
    "        self.layers = [\n",
    "            ('input_image', lambda x:x),\n",
    "            ('conv1', lambda x: self.base_network.conv1(x)),\n",
    "            ('conv5', lambda x: self.base_network.layer1(self.base_network.maxpool(\n",
    "                self.base_network.relu(self.base_network.bn1(x))))),\n",
    "            ('conv9',  lambda x: self.base_network.layer2(x)),\n",
    "            ('conv13', lambda x: self.base_network.layer3(x)),\n",
    "            ('conv17', lambda x: self.base_network.layer4(x)),\n",
    "            ('fc', lambda x: self.base_network.fc(x)),\n",
    "        ]\n",
    "\n",
    "    def forward(self, x, aux={}):\n",
    "        for name, operator in self.layers:\n",
    "            x = operator(x)\n",
    "            if name in aux:\n",
    "                x = x + aux[name]\n",
    "            setattr(self, name, x)\n",
    "        # Take the max for each prediction map.\n",
    "        return x.max(dim = 2, keepdim=True)[0].max(dim = 3, keepdim=True)[0].squeeze()\n",
    "    \n",
    "    def partial_forward(self, start, aux={}):\n",
    "        skip = True\n",
    "        for name, operator in self.layers:\n",
    "            if name == start:\n",
    "                x = getattr(self, name)\n",
    "                x = x + aux[name]\n",
    "                skip = False\n",
    "            elif skip:\n",
    "                continue\n",
    "            else:\n",
    "                x = operator(x)\n",
    "                if name in aux:\n",
    "                    x = x + aux[name]\n",
    "                    \n",
    "        return x.max(dim = 2, keepdim=True)[0].max(dim = 3, keepdim=True)[0].squeeze()"
   ]
  },
  {
   "cell_type": "code",
   "execution_count": 63,
   "metadata": {},
   "outputs": [
    {
     "name": "stdout",
     "output_type": "stream",
     "text": [
      "=> loaded checkpoint (epoch 41)\n"
     ]
    }
   ],
   "source": [
    "# Prepare model.\n",
    "RF_model = RF(1000)\n",
    "RF_model = nn.DataParallel(RF_model).cuda()\n",
    "checkpoint = torch.load(os.path.join(args.logDir, 'model_best.pth.tar'))\n",
    "args.startEpoch = checkpoint['epoch']\n",
    "best_error = checkpoint['error']\n",
    "RF_model.load_state_dict(checkpoint['state_dict'])\n",
    "print(\"=> loaded checkpoint (epoch {})\".format(checkpoint['epoch']))"
   ]
  },
  {
   "cell_type": "code",
   "execution_count": 66,
   "metadata": {
    "collapsed": true
   },
   "outputs": [],
   "source": [
    "def feedback_prop_rf_val(net,knownLabelIds, unknownLabelIds, layers=['input_a'], num_iterations=20, lr=1e-3):\n",
    "    net.eval()\n",
    "    test_loss = 0\n",
    "    correct = 0\n",
    "    results = defaultdict(list)\n",
    "    t = tqdm(testLoader, desc=\"Evaluating on Val:\")\n",
    "    t_knownLabelIds   = torch.LongTensor(knownLabelIds).cuda()\n",
    "    t_unknownLabelIds = torch.LongTensor(unknownLabelIds).cuda()\n",
    "    \n",
    "    for batch_idx, (data, target, imageIds) in enumerate(t):\n",
    "        # Prepare inputs.\n",
    "#         if batch_idx == 10: break\n",
    "        data, target = data.cuda(), target.cuda()\n",
    "        data, target = Variable(data), Variable(target)\n",
    "\n",
    "        # Inference.\n",
    "        output = net(data)\n",
    "        # Check the unobserved loss.\n",
    "        knownLabelPredictions = output.index_select(1, Variable(t_knownLabelIds))\n",
    "        knownLabelValues = target.index_select(1, Variable(t_knownLabelIds))\n",
    "        unknownLabelPredictions = output.index_select(1, Variable(t_unknownLabelIds))\n",
    "        unknownLabelValues = target.index_select(1, Variable(t_unknownLabelIds))\n",
    "        \n",
    "        aux = {}\n",
    "        for layer in layers:\n",
    "            aux_activation = torch.FloatTensor(getattr(net.module, layer).data.size()).zero_().cuda()\n",
    "            aux[layer] = Variable(aux_activation, requires_grad=True)\n",
    "        \n",
    "        activation = Variable(getattr(net.module, layers[0]).data, requires_grad=True)\n",
    "        setattr(net.module, layers[0], activation)\n",
    "            \n",
    "        optimizer = optim.Adam([aux[name] for name in aux], lr = lr, weight_decay = 1e-4)\n",
    "        for iteration in range(0, num_iterations):\n",
    "            output = net.module.partial_forward(layers[0], aux=aux)\n",
    "            knownLabelPredictions = output.index_select(1, Variable(t_knownLabelIds))\n",
    "            loss = F.binary_cross_entropy_with_logits(knownLabelPredictions, knownLabelValues)\n",
    "            optimizer.zero_grad()\n",
    "            loss.backward()\n",
    "            optimizer.step()\n",
    "            results[iteration].append((imageIds, output.data.cpu(), target.data.cpu()))\n",
    "        output = net.module.partial_forward(layers[0], aux=aux)\n",
    "        results[iteration + 1].append((imageIds, output.data.cpu(), target.data.cpu()))\n",
    "\n",
    "        # Logging information.\n",
    "        pred = output.data.max(1, keepdim=True)[1] # get the index of the max log-probability\n",
    "        correct += torch.gather(target.data, 1, pred).cpu().sum()\n",
    "        t.set_postfix(correct = str(correct))\n",
    "    \n",
    "    predictions = dict()\n",
    "    for iteration in results.keys():\n",
    "        predictions[iteration] = torch.cat([entry[1] for entry in results[iteration]], 0)\n",
    "    targets = torch.cat([entry[2] for entry in results[0]], 0)\n",
    "    \n",
    "    meanAP_unknown = list()\n",
    "    meanAP_known = list()\n",
    "    unknown_targets = targets.index_select(1, torch.LongTensor(unknownLabelIds)).numpy()\n",
    "    known_targets = targets.index_select(1, torch.LongTensor(knownLabelIds)).numpy()\n",
    "    for iteration in range(len(results)):\n",
    "        meanAP_unknown.append(100 * ( average_precision_score(unknown_targets,\n",
    "            (predictions[iteration] + 1e-5).index_select(1, torch.LongTensor(unknownLabelIds)).numpy(), average='macro')))\n",
    "        meanAP_known.append(100 * ( average_precision_score(known_targets,\n",
    "            (predictions[iteration] + 1e-5).index_select(1, torch.LongTensor(knownLabelIds)).numpy(), average='macro')))\n",
    "\n",
    "    \n",
    "    return meanAP_unknown, meanAP_known"
   ]
  },
  {
   "cell_type": "code",
   "execution_count": 67,
   "metadata": {},
   "outputs": [
    {
     "data": {
      "application/vnd.jupyter.widget-view+json": {
       "model_id": "15d8814e6d99479cae9e3117ecdbf06c"
      }
     },
     "metadata": {},
     "output_type": "display_data"
    },
    {
     "name": "stdout",
     "output_type": "stream",
     "text": [
      "('number of iteration for max meanAP:', 10)\n"
     ]
    }
   ],
   "source": [
    "meanAP_unknown, meanAP_known = feedback_prop_rf_val(\n",
    "    RF_model, knownLabelIds, unknownLabelIds, layers=['conv13'], num_iterations=20, lr=3e-3)\n",
    "print(\"number of iteration for max meanAP:\", np.argmax(np.asarray(meanAP_unknown)))"
   ]
  },
  {
   "cell_type": "code",
   "execution_count": 68,
   "metadata": {},
   "outputs": [
    {
     "data": {
      "text/plain": [
       "<matplotlib.axes._subplots.AxesSubplot at 0x7f12f490c510>"
      ]
     },
     "execution_count": 68,
     "metadata": {},
     "output_type": "execute_result"
    },
    {
     "data": {
      "text/plain": [
       "<matplotlib.figure.Figure at 0x7f1340267c50>"
      ]
     },
     "metadata": {},
     "output_type": "display_data"
    },
    {
     "data": {
      "image/png": "[encoded data removed]",
      "text/plain": [
       "<matplotlib.figure.Figure at 0x7f13469cf790>"
      ]
     },
     "metadata": {},
     "output_type": "display_data"
    }
   ],
   "source": [
    "df = pd.DataFrame({'meanAP': meanAP_unknown}, index = range(0, 21))\n",
    "df.index.name = \"epochs\"\n",
    "plt.figure()\n",
    "df.plot(title=' '.join('conv13'))"
   ]
  },
  {
   "cell_type": "markdown",
   "metadata": {},
   "source": [
    "### Tune parameters(learning_rate and num_iterations) on val set and apply on test set"
   ]
  },
  {
   "cell_type": "code",
   "execution_count": 76,
   "metadata": {
    "collapsed": true
   },
   "outputs": [],
   "source": [
    "def feedback_prop_rf_test(net, knownLabelIds, unknownLabelIds, layers=['input_a'], num_iterations=20, lr=1e-3):\n",
    "    net.eval()\n",
    "    test_loss = 0\n",
    "    correct = 0\n",
    "    results = list()\n",
    "    t = tqdm(testLoader, desc=\"Evaluating on Test:\")\n",
    "    t_knownLabelIds   = torch.LongTensor(knownLabelIds).cuda()\n",
    "    t_unknownLabelIds = torch.LongTensor(unknownLabelIds).cuda()\n",
    "    \n",
    "    for batch_idx, (data, target, imageIds) in enumerate(t):\n",
    "        # Prepare inputs.\n",
    "#         if batch_idx == 3: break\n",
    "        data, target = data.cuda(), target.cuda()\n",
    "        data, target = Variable(data), Variable(target)\n",
    "\n",
    "        # Inference.\n",
    "        output = net(data)\n",
    "        # Check the unobserved loss.\n",
    "        knownLabelPredictions = output.index_select(1, Variable(t_knownLabelIds))\n",
    "        knownLabelValues = target.index_select(1, Variable(t_knownLabelIds))\n",
    "        unknownLabelPredictions = output.index_select(1, Variable(t_unknownLabelIds))\n",
    "        unknownLabelValues = target.index_select(1, Variable(t_unknownLabelIds))\n",
    "        \n",
    "        aux = {}\n",
    "        for layer in layers:\n",
    "            aux_activation = torch.FloatTensor(getattr(net.module, layer).data.size()).zero_().cuda()\n",
    "            aux[layer] = Variable(aux_activation, requires_grad=True)\n",
    "        \n",
    "        activation = Variable(getattr(net.module, layers[0]).data, requires_grad=True)\n",
    "        setattr(net.module, layers[0], activation)\n",
    "            \n",
    "        optimizer = optim.Adam([aux[name] for name in aux], lr = lr, weight_decay = 1e-4)\n",
    "        for iteration in range(0, num_iterations + 1):\n",
    "            output = net.module.partial_forward(layers[0], aux=aux)\n",
    "            knownLabelPredictions = output.index_select(1, Variable(t_knownLabelIds))\n",
    "            loss = F.binary_cross_entropy_with_logits(knownLabelPredictions, knownLabelValues)\n",
    "            optimizer.zero_grad()\n",
    "            loss.backward()\n",
    "            optimizer.step()\n",
    "        output = net.module.partial_forward(layers[0], aux=aux)\n",
    "\n",
    "        # Logging information.\n",
    "        results.append((imageIds, output.data.cpu(), target.data.cpu(), unknownLabelPredictions.data.cpu()))\n",
    "        pred = output.data.max(1, keepdim=True)[1] # get the index of the max log-probability\n",
    "        correct += torch.gather(target.data, 1, pred).cpu().sum()\n",
    "        t.set_postfix(correct = str(correct))\n",
    "    \n",
    "    predictions = torch.cat([entry[1] for entry in results], 0)\n",
    "    targets = torch.cat([entry[2] for entry in results], 0)\n",
    "    ori_predictions = torch.cat([entry[3] for entry in results], 0)\n",
    "    old_meanAP = 100 * (average_precision_score(targets.index_select(1, torch.LongTensor(unknownLabelIds)).numpy(),\n",
    "                                     (ori_predictions + 1e-5).numpy(),\n",
    "                                    average = 'macro'))\n",
    "    new_meanAP = 100 * (average_precision_score(targets.index_select(1, torch.LongTensor(unknownLabelIds)).numpy(),\n",
    "                                     (predictions + 1e-5).index_select(1, torch.LongTensor(unknownLabelIds)).numpy(),\n",
    "                                    average = 'macro'))\n",
    "    \n",
    "    return old_meanAP, new_meanAP"
   ]
  },
  {
   "cell_type": "code",
   "execution_count": 77,
   "metadata": {},
   "outputs": [
    {
     "data": {
      "application/vnd.jupyter.widget-view+json": {
       "model_id": "30690574940742ebbf4db9299136a14e"
      }
     },
     "metadata": {},
     "output_type": "display_data"
    },
    {
     "name": "stdout",
     "output_type": "stream",
     "text": [
      "meanAP of test split without feedback-prop: 22.9942420978\n",
      "meanAP of test split with residual feedback-prop: 25.6912361887\n"
     ]
    }
   ],
   "source": [
    "mAP_base, mAP_rf = feedback_prop_rf_test(RF_model, knownLabelIds, unknownLabelIds, layers=['conv13'], num_iterations=10, lr=3e-3)\n",
    "print('meanAP of test split without feedback-prop: {}\\nmeanAP of test split with residual feedback-prop: {}'.format(mAP_base, mAP_rf))"
   ]
  }
 ],
 "metadata": {
  "kernelspec": {
   "display_name": "Python 2",
   "language": "python",
   "name": "python2"
  },
  "language_info": {
   "codemirror_mode": {
    "name": "ipython",
    "version": 2
   },
   "file_extension": ".py",
   "mimetype": "text/x-python",
   "name": "python",
   "nbconvert_exporter": "python",
   "pygments_lexer": "ipython2",
   "version": "2.7.13"
  }
 },
 "nbformat": 4,
 "nbformat_minor": 2
}
